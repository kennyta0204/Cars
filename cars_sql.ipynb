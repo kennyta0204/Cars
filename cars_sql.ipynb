{
 "cells": [
  {
   "cell_type": "markdown",
   "id": "222591a9",
   "metadata": {},
   "source": [
    "# Classics, Collectibles, & Popular Cars PSQL Database "
   ]
  },
  {
   "cell_type": "code",
   "execution_count": null,
   "id": "7cbebbe6",
   "metadata": {},
   "outputs": [],
   "source": [
    "import psycopg2\n",
    "import pandas as pd"
   ]
  },
  {
   "cell_type": "code",
   "execution_count": null,
   "id": "218cfbb2",
   "metadata": {},
   "outputs": [],
   "source": [
    "#INPUT YOUR OWN PASSWORD TO YOUR POSTGRESQL\n",
    "conn = psycopg2.connect(\n",
    "    host = \"localhost\",\n",
    "    database = \"cars\",\n",
    "    port = \"5432\",\n",
    "    user = \"postgres\",\n",
    "    password= \"\") # INPUT PW HERE"
   ]
  },
  {
   "cell_type": "code",
   "execution_count": null,
   "id": "7a63c2e3",
   "metadata": {},
   "outputs": [],
   "source": [
    "cur = conn.cursor()"
   ]
  },
  {
   "cell_type": "code",
   "execution_count": null,
   "id": "19db5923",
   "metadata": {},
   "outputs": [],
   "source": [
    "# If at anytime we have an error due to incomplete queries, uncomment and run line below. \n",
    "# cur.execute(\"ROLLBACK\")"
   ]
  },
  {
   "cell_type": "markdown",
   "id": "02e488cf",
   "metadata": {},
   "source": [
    "### Execute car_make.sql"
   ]
  },
  {
   "cell_type": "code",
   "execution_count": null,
   "id": "a6df0f1e",
   "metadata": {},
   "outputs": [],
   "source": [
    "sql = 'DROP TABLE IF EXISTS car_make;'\n",
    "try:\n",
    "    cur.execute(sql)\n",
    "except:\n",
    "    print(\"error dropping table\")\n",
    "\n",
    "try:\n",
    "    cur.execute(open('car_make.sql', 'r').read())\n",
    "except:\n",
    "    print('error executing sql file')"
   ]
  },
  {
   "cell_type": "code",
   "execution_count": null,
   "id": "b569b27c",
   "metadata": {},
   "outputs": [],
   "source": [
    "conn.commit()"
   ]
  },
  {
   "cell_type": "markdown",
   "id": "3d35cb33",
   "metadata": {},
   "source": [
    "### Test connection"
   ]
  },
  {
   "cell_type": "code",
   "execution_count": null,
   "id": "a53668e0",
   "metadata": {},
   "outputs": [],
   "source": [
    "cur.execute(\"SELECT * from car_make;\")"
   ]
  },
  {
   "cell_type": "code",
   "execution_count": null,
   "id": "6d31a22c",
   "metadata": {
    "scrolled": true
   },
   "outputs": [],
   "source": [
    "print(cur.fetchall())"
   ]
  },
  {
   "cell_type": "markdown",
   "id": "9dd1e591",
   "metadata": {},
   "source": [
    "### Create car_name Table"
   ]
  },
  {
   "cell_type": "code",
   "execution_count": null,
   "id": "d5670610",
   "metadata": {},
   "outputs": [],
   "source": [
    "df = pd.read_csv('car_name.csv')"
   ]
  },
  {
   "cell_type": "code",
   "execution_count": null,
   "id": "5309bb06",
   "metadata": {},
   "outputs": [],
   "source": [
    "df.head(5)"
   ]
  },
  {
   "cell_type": "code",
   "execution_count": null,
   "id": "fbd8bf08",
   "metadata": {},
   "outputs": [],
   "source": [
    "sql = 'DROP TABLE IF EXISTS car_name;'\n",
    "try:\n",
    "    cur.execute(sql)\n",
    "except:\n",
    "    print('error dropping table')"
   ]
  },
  {
   "cell_type": "code",
   "execution_count": null,
   "id": "631a7bd0",
   "metadata": {},
   "outputs": [],
   "source": [
    "f = open(\"car_name.sql\", \"w\")\n",
    "sql = '''CREATE TABLE IF NOT EXISTS car_name (id SERIAL PRIMARY KEY, name VARCHAR(30) NOT NULL, make_id INTEGER NOT NULL);'''\n",
    "try:\n",
    "    cur.execute(sql)\n",
    "    f.write(sql)\n",
    "except:\n",
    "    print(\"create table error\")\n",
    "\n",
    "for _, car in df.iterrows():\n",
    "    sql = f\"INSERT INTO car_name (name, make_id) VALUES ('{car.car_name}', {car.make_id});\"\n",
    "    try:\n",
    "        cur.execute(sql)\n",
    "        f.write('\\n')\n",
    "        f.write(sql)\n",
    "    except:\n",
    "        print('insert error')\n",
    "\n",
    "f.close()"
   ]
  },
  {
   "cell_type": "code",
   "execution_count": null,
   "id": "d668b86d",
   "metadata": {},
   "outputs": [],
   "source": [
    "conn.commit()"
   ]
  },
  {
   "cell_type": "markdown",
   "id": "967e43a2",
   "metadata": {},
   "source": [
    "### Add car_models table"
   ]
  },
  {
   "cell_type": "code",
   "execution_count": null,
   "id": "732658c0",
   "metadata": {},
   "outputs": [],
   "source": [
    "sql = '''SELECT * FROM car_name'''\n",
    "df_make= pd.read_sql_query(sql,conn)\n",
    "df_make = df_make.rename(columns={'id':'name_id'})"
   ]
  },
  {
   "cell_type": "code",
   "execution_count": null,
   "id": "7e2ffd5e",
   "metadata": {},
   "outputs": [],
   "source": [
    "df_models = pd.read_csv('car_models.csv')\n",
    "df_models.name = df_models.name.fillna(method='ffill')\n",
    "df_models.max_year = df_models.max_year.fillna(9999).astype(int)\n",
    "df_models.drop(columns = ['width', 'height', 'length','weight'], inplace =True)"
   ]
  },
  {
   "cell_type": "code",
   "execution_count": null,
   "id": "0ed2b690",
   "metadata": {},
   "outputs": [],
   "source": [
    "df_models = df_models.merge(df_make, how='left' ,on='name')"
   ]
  },
  {
   "cell_type": "code",
   "execution_count": null,
   "id": "9a032844",
   "metadata": {},
   "outputs": [],
   "source": [
    "# Make sure we did not lose any rows after merging tables. If rows were loss, then we had mismatches when merging.\n",
    "assert len(df_models) == len(pd.read_csv('car_models.csv'))\n",
    "df_models.head(5)"
   ]
  },
  {
   "cell_type": "code",
   "execution_count": null,
   "id": "3e8e7454",
   "metadata": {},
   "outputs": [],
   "source": [
    "f = open(\"car_models.sql\", \"w\")\n",
    "\n",
    "sql = \"DROP TABLE IF EXISTS car_models;\"\n",
    "try:\n",
    "    cur.execute(sql)\n",
    "    f.write(sql)\n",
    "except:\n",
    "    print('error dropping table')\n",
    "    \n",
    "sql = '''CREATE TABLE IF NOT EXISTS car_models (\n",
    "    id SERIAL PRIMARY KEY, \n",
    "    name_id INTEGER NOT NULL,\n",
    "    edition VARCHAR(30) NOT NULL, \n",
    "    min_year INTEGER NOT NULL,\n",
    "    max_year INTEGER,\n",
    "    hp INTEGER,\n",
    "    torque INTEGER,\n",
    "    body VARCHAR(20),\n",
    "    door INTEGER,\n",
    "    cylinder INTEGER,\n",
    "    displacement FLOAT4,\n",
    "    aspiration VARCHAR(15),\n",
    "    transmission VARCHAR(5),\n",
    "    drive VARCHAR(5)\n",
    "    );'''\n",
    "try:\n",
    "    cur.execute(sql)\n",
    "    f.write('\\n')\n",
    "    f.write(sql)\n",
    "except:\n",
    "    print('error creating table')\n",
    "    "
   ]
  },
  {
   "cell_type": "code",
   "execution_count": null,
   "id": "7fb19dbb",
   "metadata": {},
   "outputs": [],
   "source": [
    "for _, car in df_models.iterrows():\n",
    "    sql = f\"\"\"INSERT INTO car_models (name_id, edition, min_year, max_year, hp, torque, body, door, cylinder, displacement, aspiration, transmission, drive) \n",
    "        VALUES ('{car.name_id}','{car.edition}',{car.min_year},{car.max_year},{car.hp},{car.torque},'{car.body}',{car.door},{car.cylinder},{car.displacement},'{car.aspiration}','{car.trans}','{car.drive}');\"\"\"\n",
    "    try:\n",
    "        cur.execute(sql)\n",
    "        f.write('\\n')\n",
    "        f.write(sql)\n",
    "    except:\n",
    "        print(f\"\"\"insert error for {car['name']}, {car.edition}\"\"\")"
   ]
  },
  {
   "cell_type": "code",
   "execution_count": null,
   "id": "c8e0f67e",
   "metadata": {},
   "outputs": [],
   "source": [
    "f.close()"
   ]
  },
  {
   "cell_type": "code",
   "execution_count": null,
   "id": "896a2e4a",
   "metadata": {},
   "outputs": [],
   "source": [
    "sql = \"SELECT * FROM car_models\"\n",
    "df_test= pd.read_sql_query(sql,conn)\n",
    "df_test.head(5)"
   ]
  },
  {
   "cell_type": "code",
   "execution_count": null,
   "id": "f8f03221",
   "metadata": {},
   "outputs": [],
   "source": [
    "# Assertion test\n",
    "assert(len(df_test) == len(df_models))"
   ]
  },
  {
   "cell_type": "code",
   "execution_count": null,
   "id": "85fef8e9",
   "metadata": {},
   "outputs": [],
   "source": [
    "conn.commit()"
   ]
  },
  {
   "cell_type": "markdown",
   "id": "3e8bf205",
   "metadata": {},
   "source": [
    "### Compile all tables into full DataFrame"
   ]
  },
  {
   "cell_type": "code",
   "execution_count": null,
   "id": "eb2193ff",
   "metadata": {},
   "outputs": [],
   "source": [
    "sql = \"\"\"SELECT make, name, edition, min_year, max_year, hp, torque, \n",
    "    cylinder, displacement, aspiration,transmission, drive, body, door \n",
    "    FROM car_models AS M \n",
    "    JOIN car_name AS N ON M.name_id = N.id \n",
    "    JOIN car_make AS MA ON N.make_id = MA.id;\"\"\"\n",
    "df_return = pd.read_sql_query(sql, conn)\n",
    "df_return"
   ]
  },
  {
   "cell_type": "markdown",
   "id": "8f19e650",
   "metadata": {},
   "source": [
    "### End Session"
   ]
  },
  {
   "cell_type": "code",
   "execution_count": null,
   "id": "56d8b787",
   "metadata": {},
   "outputs": [],
   "source": [
    "cur.close()\n",
    "conn.close()"
   ]
  },
  {
   "cell_type": "markdown",
   "id": "96d8c1ef",
   "metadata": {},
   "source": [
    "### Run Cells below to delete all tables"
   ]
  },
  {
   "cell_type": "code",
   "execution_count": null,
   "id": "f0ec95fb",
   "metadata": {},
   "outputs": [],
   "source": [
    "# sql = \"\"\"SELECT table_name FROM information_schema.tables WHERE table_schema = 'public'\"\"\"\n",
    "# cur.execute(sql)\n",
    "\n",
    "# for table in cur.fetchall():\n",
    "#     try:\n",
    "#         sql = f\"DROP TABLE IF EXISTS {table[0]};\"\n",
    "#         cur.execute(sql)\n",
    "#         print(sql)\n",
    "#     except:\n",
    "#         print('error dropping tables')"
   ]
  },
  {
   "cell_type": "code",
   "execution_count": null,
   "id": "599c30e3",
   "metadata": {},
   "outputs": [],
   "source": [
    "# conn.commit()"
   ]
  },
  {
   "cell_type": "code",
   "execution_count": null,
   "id": "b37aab1f",
   "metadata": {},
   "outputs": [],
   "source": []
  }
 ],
 "metadata": {
  "kernelspec": {
   "display_name": "Python 3 (ipykernel)",
   "language": "python",
   "name": "python3"
  },
  "language_info": {
   "codemirror_mode": {
    "name": "ipython",
    "version": 3
   },
   "file_extension": ".py",
   "mimetype": "text/x-python",
   "name": "python",
   "nbconvert_exporter": "python",
   "pygments_lexer": "ipython3",
   "version": "3.10.4"
  }
 },
 "nbformat": 4,
 "nbformat_minor": 5
}
