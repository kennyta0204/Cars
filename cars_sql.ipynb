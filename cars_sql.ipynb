{
 "cells": [
  {
   "cell_type": "markdown",
   "id": "222591a9",
   "metadata": {},
   "source": [
    "# Classics, Collectibles, & Popular Cars PSQL Database "
   ]
  },
  {
   "cell_type": "code",
   "execution_count": 15,
   "id": "7cbebbe6",
   "metadata": {},
   "outputs": [],
   "source": [
    "import psycopg2\n",
    "import pandas as pd"
   ]
  },
  {
   "cell_type": "code",
   "execution_count": 18,
   "id": "218cfbb2",
   "metadata": {},
   "outputs": [],
   "source": [
    "#INPUT YOUR OWN PASSWORD TO YOUR POSTGRESQL\n",
    "conn = psycopg2.connect(\n",
    "    host = \"localhost\",\n",
    "    database = \"cars\",\n",
    "    port = \"5432\",\n",
    "    user = \"postgres\",\n",
    "    password= \"\") # INPUT PW HERE"
   ]
  },
  {
   "cell_type": "code",
   "execution_count": 19,
   "id": "7a63c2e3",
   "metadata": {},
   "outputs": [],
   "source": [
    "cur = conn.cursor()"
   ]
  },
  {
   "cell_type": "code",
   "execution_count": null,
   "id": "19db5923",
   "metadata": {},
   "outputs": [],
   "source": [
    "# If at anytime we have an error due to incomplete queries, uncomment and run line below. \n",
    "# cur.execute(\"ROLLBACK\")"
   ]
  },
  {
   "cell_type": "markdown",
   "id": "02e488cf",
   "metadata": {},
   "source": [
    "### Execute car_make.sql"
   ]
  },
  {
   "cell_type": "code",
   "execution_count": null,
   "id": "a6df0f1e",
   "metadata": {},
   "outputs": [],
   "source": [
    "sql = 'DROP TABLE IF EXISTS car_make;'\n",
    "try:\n",
    "    cur.execute(sql)\n",
    "except:\n",
    "    print(\"error dropping table\")\n",
    "\n",
    "try:\n",
    "    cur.execute(open('sql_files/car_make.sql', 'r').read())\n",
    "except:\n",
    "    print('error executing sql file')"
   ]
  },
  {
   "cell_type": "code",
   "execution_count": null,
   "id": "b569b27c",
   "metadata": {},
   "outputs": [],
   "source": [
    "conn.commit()"
   ]
  },
  {
   "cell_type": "markdown",
   "id": "3d35cb33",
   "metadata": {},
   "source": [
    "### Test connection"
   ]
  },
  {
   "cell_type": "code",
   "execution_count": null,
   "id": "a53668e0",
   "metadata": {},
   "outputs": [],
   "source": [
    "cur.execute(\"SELECT * from car_make;\")"
   ]
  },
  {
   "cell_type": "code",
   "execution_count": null,
   "id": "6d31a22c",
   "metadata": {
    "scrolled": true
   },
   "outputs": [],
   "source": [
    "print(cur.fetchall())"
   ]
  },
  {
   "cell_type": "markdown",
   "id": "9dd1e591",
   "metadata": {},
   "source": [
    "### Create car_name Table"
   ]
  },
  {
   "cell_type": "code",
   "execution_count": 20,
   "id": "d5670610",
   "metadata": {},
   "outputs": [],
   "source": [
    "df = pd.read_csv('data/car_name.csv')"
   ]
  },
  {
   "cell_type": "code",
   "execution_count": 21,
   "id": "5309bb06",
   "metadata": {},
   "outputs": [
    {
     "data": {
      "text/html": [
       "<div>\n",
       "<style scoped>\n",
       "    .dataframe tbody tr th:only-of-type {\n",
       "        vertical-align: middle;\n",
       "    }\n",
       "\n",
       "    .dataframe tbody tr th {\n",
       "        vertical-align: top;\n",
       "    }\n",
       "\n",
       "    .dataframe thead th {\n",
       "        text-align: right;\n",
       "    }\n",
       "</style>\n",
       "<table border=\"1\" class=\"dataframe\">\n",
       "  <thead>\n",
       "    <tr style=\"text-align: right;\">\n",
       "      <th></th>\n",
       "      <th>id</th>\n",
       "      <th>car_name</th>\n",
       "      <th>make_id</th>\n",
       "    </tr>\n",
       "  </thead>\n",
       "  <tbody>\n",
       "    <tr>\n",
       "      <th>0</th>\n",
       "      <td>1</td>\n",
       "      <td>integra</td>\n",
       "      <td>1</td>\n",
       "    </tr>\n",
       "    <tr>\n",
       "      <th>1</th>\n",
       "      <td>2</td>\n",
       "      <td>rsx</td>\n",
       "      <td>1</td>\n",
       "    </tr>\n",
       "    <tr>\n",
       "      <th>2</th>\n",
       "      <td>3</td>\n",
       "      <td>tsx</td>\n",
       "      <td>1</td>\n",
       "    </tr>\n",
       "    <tr>\n",
       "      <th>3</th>\n",
       "      <td>4</td>\n",
       "      <td>tl</td>\n",
       "      <td>1</td>\n",
       "    </tr>\n",
       "    <tr>\n",
       "      <th>4</th>\n",
       "      <td>5</td>\n",
       "      <td>nsx</td>\n",
       "      <td>1</td>\n",
       "    </tr>\n",
       "  </tbody>\n",
       "</table>\n",
       "</div>"
      ],
      "text/plain": [
       "   id car_name  make_id\n",
       "0   1  integra        1\n",
       "1   2      rsx        1\n",
       "2   3      tsx        1\n",
       "3   4       tl        1\n",
       "4   5      nsx        1"
      ]
     },
     "execution_count": 21,
     "metadata": {},
     "output_type": "execute_result"
    }
   ],
   "source": [
    "df.head(5)"
   ]
  },
  {
   "cell_type": "code",
   "execution_count": 22,
   "id": "fbd8bf08",
   "metadata": {},
   "outputs": [],
   "source": [
    "sql = 'DROP TABLE IF EXISTS car_name;'\n",
    "try:\n",
    "    cur.execute(sql)\n",
    "except:\n",
    "    print('error dropping table')"
   ]
  },
  {
   "cell_type": "code",
   "execution_count": 24,
   "id": "631a7bd0",
   "metadata": {},
   "outputs": [],
   "source": [
    "f = open(\"sql_files/car_name.sql\", \"w\")\n",
    "sql = '''CREATE TABLE IF NOT EXISTS car_name (id SERIAL PRIMARY KEY, name VARCHAR(30) NOT NULL, make_id INTEGER NOT NULL);'''\n",
    "try:\n",
    "    cur.execute(sql)\n",
    "    f.write(sql)\n",
    "except:\n",
    "    print(\"create table error\")\n",
    "\n",
    "for _, car in df.iterrows():\n",
    "    sql = f\"INSERT INTO car_name (name, make_id) VALUES ('{car.car_name}', {car.make_id});\"\n",
    "    try:\n",
    "        cur.execute(sql)\n",
    "        f.write('\\n')\n",
    "        f.write(sql)\n",
    "    except:\n",
    "        print('insert error')\n",
    "\n",
    "f.close()"
   ]
  },
  {
   "cell_type": "code",
   "execution_count": null,
   "id": "d668b86d",
   "metadata": {},
   "outputs": [],
   "source": [
    "conn.commit()"
   ]
  },
  {
   "cell_type": "markdown",
   "id": "967e43a2",
   "metadata": {},
   "source": [
    "### Add car_models table"
   ]
  },
  {
   "cell_type": "code",
   "execution_count": null,
   "id": "732658c0",
   "metadata": {},
   "outputs": [],
   "source": [
    "sql = '''SELECT * FROM car_name'''\n",
    "df_make= pd.read_sql_query(sql,conn)\n",
    "df_make = df_make.rename(columns={'id':'name_id'})"
   ]
  },
  {
   "cell_type": "code",
   "execution_count": null,
   "id": "7e2ffd5e",
   "metadata": {},
   "outputs": [],
   "source": [
    "df_models = pd.read_csv('data/car_models.csv')\n",
    "df_models.name = df_models.name.fillna(method='ffill')\n",
    "df_models.max_year = df_models.max_year.fillna(9999).astype(int)\n",
    "df_models.drop(columns = ['width', 'height', 'length','weight'], inplace =True)"
   ]
  },
  {
   "cell_type": "code",
   "execution_count": null,
   "id": "0ed2b690",
   "metadata": {},
   "outputs": [],
   "source": [
    "df_models = df_models.merge(df_make, how='left' ,on='name')"
   ]
  },
  {
   "cell_type": "code",
   "execution_count": null,
   "id": "9a032844",
   "metadata": {},
   "outputs": [],
   "source": [
    "# Make sure we did not lose any rows after merging tables. If rows were loss, then we had mismatches when merging.\n",
    "assert len(df_models) == len(pd.read_csv('car_models.csv'))\n",
    "df_models.head(5)"
   ]
  },
  {
   "cell_type": "code",
   "execution_count": null,
   "id": "3e8e7454",
   "metadata": {},
   "outputs": [],
   "source": [
    "f = open(\"sql_files/car_models.sql\", \"w\")\n",
    "\n",
    "sql = \"DROP TABLE IF EXISTS car_models;\"\n",
    "try:\n",
    "    cur.execute(sql)\n",
    "    f.write(sql)\n",
    "except:\n",
    "    print('error dropping table')\n",
    "    \n",
    "sql = '''CREATE TABLE IF NOT EXISTS car_models (\n",
    "    id SERIAL PRIMARY KEY, \n",
    "    name_id INTEGER NOT NULL,\n",
    "    edition VARCHAR(30) NOT NULL, \n",
    "    min_year INTEGER NOT NULL,\n",
    "    max_year INTEGER,\n",
    "    hp INTEGER,\n",
    "    torque INTEGER,\n",
    "    body VARCHAR(20),\n",
    "    door INTEGER,\n",
    "    cylinder INTEGER,\n",
    "    displacement FLOAT4,\n",
    "    aspiration VARCHAR(15),\n",
    "    transmission VARCHAR(5),\n",
    "    drive VARCHAR(5)\n",
    "    );'''\n",
    "try:\n",
    "    cur.execute(sql)\n",
    "    f.write('\\n')\n",
    "    f.write(sql)\n",
    "except:\n",
    "    print('error creating table')\n",
    "    "
   ]
  },
  {
   "cell_type": "code",
   "execution_count": null,
   "id": "7fb19dbb",
   "metadata": {},
   "outputs": [],
   "source": [
    "for _, car in df_models.iterrows():\n",
    "    sql = f\"\"\"INSERT INTO car_models (name_id, edition, min_year, max_year, hp, torque, body, door, cylinder, displacement, aspiration, transmission, drive) \n",
    "        VALUES ('{car.name_id}','{car.edition}',{car.min_year},{car.max_year},{car.hp},{car.torque},'{car.body}',{car.door},{car.cylinder},{car.displacement},'{car.aspiration}','{car.trans}','{car.drive}');\"\"\"\n",
    "    try:\n",
    "        cur.execute(sql)\n",
    "        f.write('\\n')\n",
    "        f.write(sql)\n",
    "    except:\n",
    "        print(f\"\"\"insert error for {car['name']}, {car.edition}\"\"\")"
   ]
  },
  {
   "cell_type": "code",
   "execution_count": null,
   "id": "c8e0f67e",
   "metadata": {},
   "outputs": [],
   "source": [
    "f.close()"
   ]
  },
  {
   "cell_type": "code",
   "execution_count": null,
   "id": "896a2e4a",
   "metadata": {},
   "outputs": [],
   "source": [
    "sql = \"SELECT * FROM car_models\"\n",
    "df_test= pd.read_sql_query(sql,conn)\n",
    "df_test.head(5)"
   ]
  },
  {
   "cell_type": "code",
   "execution_count": null,
   "id": "f8f03221",
   "metadata": {},
   "outputs": [],
   "source": [
    "# Assertion test\n",
    "assert(len(df_test) == len(df_models))"
   ]
  },
  {
   "cell_type": "code",
   "execution_count": null,
   "id": "85fef8e9",
   "metadata": {},
   "outputs": [],
   "source": [
    "conn.commit()"
   ]
  },
  {
   "cell_type": "markdown",
   "id": "3e8bf205",
   "metadata": {},
   "source": [
    "### Compile all tables into full DataFrame"
   ]
  },
  {
   "cell_type": "code",
   "execution_count": 14,
   "id": "eb2193ff",
   "metadata": {},
   "outputs": [
    {
     "name": "stderr",
     "output_type": "stream",
     "text": [
      "C:\\Users\\Kenny Tang\\AppData\\Local\\Temp\\ipykernel_8024\\2305560217.py:6: UserWarning: pandas only supports SQLAlchemy connectable (engine/connection) or database string URI or sqlite3 DBAPI2 connection. Other DBAPI2 objects are not tested. Please consider using SQLAlchemy.\n",
      "  df_return = pd.read_sql_query(sql, conn)\n"
     ]
    },
    {
     "data": {
      "text/html": [
       "<div>\n",
       "<style scoped>\n",
       "    .dataframe tbody tr th:only-of-type {\n",
       "        vertical-align: middle;\n",
       "    }\n",
       "\n",
       "    .dataframe tbody tr th {\n",
       "        vertical-align: top;\n",
       "    }\n",
       "\n",
       "    .dataframe thead th {\n",
       "        text-align: right;\n",
       "    }\n",
       "</style>\n",
       "<table border=\"1\" class=\"dataframe\">\n",
       "  <thead>\n",
       "    <tr style=\"text-align: right;\">\n",
       "      <th></th>\n",
       "      <th>make</th>\n",
       "      <th>name</th>\n",
       "      <th>edition</th>\n",
       "      <th>min_year</th>\n",
       "      <th>max_year</th>\n",
       "      <th>hp</th>\n",
       "      <th>torque</th>\n",
       "      <th>cylinder</th>\n",
       "      <th>displacement</th>\n",
       "      <th>aspiration</th>\n",
       "      <th>transmission</th>\n",
       "      <th>drive</th>\n",
       "      <th>body</th>\n",
       "      <th>door</th>\n",
       "    </tr>\n",
       "  </thead>\n",
       "  <tbody>\n",
       "    <tr>\n",
       "      <th>0</th>\n",
       "      <td>ACURA</td>\n",
       "      <td>integra</td>\n",
       "      <td>base</td>\n",
       "      <td>1994</td>\n",
       "      <td>2000</td>\n",
       "      <td>140</td>\n",
       "      <td>124</td>\n",
       "      <td>4</td>\n",
       "      <td>1.8</td>\n",
       "      <td>na</td>\n",
       "      <td>both</td>\n",
       "      <td>fwd</td>\n",
       "      <td>coupe</td>\n",
       "      <td>2</td>\n",
       "    </tr>\n",
       "    <tr>\n",
       "      <th>1</th>\n",
       "      <td>ACURA</td>\n",
       "      <td>integra</td>\n",
       "      <td>gsr</td>\n",
       "      <td>1994</td>\n",
       "      <td>2000</td>\n",
       "      <td>170</td>\n",
       "      <td>128</td>\n",
       "      <td>4</td>\n",
       "      <td>1.8</td>\n",
       "      <td>na</td>\n",
       "      <td>man</td>\n",
       "      <td>fwd</td>\n",
       "      <td>coupe</td>\n",
       "      <td>2</td>\n",
       "    </tr>\n",
       "    <tr>\n",
       "      <th>2</th>\n",
       "      <td>ACURA</td>\n",
       "      <td>integra</td>\n",
       "      <td>type r</td>\n",
       "      <td>1999</td>\n",
       "      <td>2000</td>\n",
       "      <td>195</td>\n",
       "      <td>130</td>\n",
       "      <td>4</td>\n",
       "      <td>1.8</td>\n",
       "      <td>na</td>\n",
       "      <td>man</td>\n",
       "      <td>fwd</td>\n",
       "      <td>coupe</td>\n",
       "      <td>2</td>\n",
       "    </tr>\n",
       "    <tr>\n",
       "      <th>3</th>\n",
       "      <td>ACURA</td>\n",
       "      <td>rsx</td>\n",
       "      <td>base</td>\n",
       "      <td>2002</td>\n",
       "      <td>2006</td>\n",
       "      <td>160</td>\n",
       "      <td>141</td>\n",
       "      <td>4</td>\n",
       "      <td>2.0</td>\n",
       "      <td>na</td>\n",
       "      <td>both</td>\n",
       "      <td>fwd</td>\n",
       "      <td>coupe</td>\n",
       "      <td>2</td>\n",
       "    </tr>\n",
       "    <tr>\n",
       "      <th>4</th>\n",
       "      <td>ACURA</td>\n",
       "      <td>rsx</td>\n",
       "      <td>type s</td>\n",
       "      <td>2002</td>\n",
       "      <td>2004</td>\n",
       "      <td>200</td>\n",
       "      <td>141</td>\n",
       "      <td>4</td>\n",
       "      <td>2.0</td>\n",
       "      <td>na</td>\n",
       "      <td>man</td>\n",
       "      <td>fwd</td>\n",
       "      <td>coupe</td>\n",
       "      <td>2</td>\n",
       "    </tr>\n",
       "    <tr>\n",
       "      <th>...</th>\n",
       "      <td>...</td>\n",
       "      <td>...</td>\n",
       "      <td>...</td>\n",
       "      <td>...</td>\n",
       "      <td>...</td>\n",
       "      <td>...</td>\n",
       "      <td>...</td>\n",
       "      <td>...</td>\n",
       "      <td>...</td>\n",
       "      <td>...</td>\n",
       "      <td>...</td>\n",
       "      <td>...</td>\n",
       "      <td>...</td>\n",
       "      <td>...</td>\n",
       "    </tr>\n",
       "    <tr>\n",
       "      <th>105</th>\n",
       "      <td>VOLKSWAGEN</td>\n",
       "      <td>golf</td>\n",
       "      <td>r mk6</td>\n",
       "      <td>2009</td>\n",
       "      <td>2011</td>\n",
       "      <td>256</td>\n",
       "      <td>243</td>\n",
       "      <td>4</td>\n",
       "      <td>2.0</td>\n",
       "      <td>turbo</td>\n",
       "      <td>man</td>\n",
       "      <td>4wd</td>\n",
       "      <td>hatch</td>\n",
       "      <td>2</td>\n",
       "    </tr>\n",
       "    <tr>\n",
       "      <th>106</th>\n",
       "      <td>VOLKSWAGEN</td>\n",
       "      <td>golf</td>\n",
       "      <td>gti mk7</td>\n",
       "      <td>2015</td>\n",
       "      <td>2021</td>\n",
       "      <td>227</td>\n",
       "      <td>258</td>\n",
       "      <td>4</td>\n",
       "      <td>2.0</td>\n",
       "      <td>turbo</td>\n",
       "      <td>both</td>\n",
       "      <td>fwd</td>\n",
       "      <td>hatch</td>\n",
       "      <td>2</td>\n",
       "    </tr>\n",
       "    <tr>\n",
       "      <th>107</th>\n",
       "      <td>VOLKSWAGEN</td>\n",
       "      <td>golf</td>\n",
       "      <td>r mk7</td>\n",
       "      <td>2015</td>\n",
       "      <td>2021</td>\n",
       "      <td>296</td>\n",
       "      <td>280</td>\n",
       "      <td>4</td>\n",
       "      <td>2.0</td>\n",
       "      <td>turbo</td>\n",
       "      <td>both</td>\n",
       "      <td>4wd</td>\n",
       "      <td>hatch</td>\n",
       "      <td>4</td>\n",
       "    </tr>\n",
       "    <tr>\n",
       "      <th>108</th>\n",
       "      <td>VOLKSWAGEN</td>\n",
       "      <td>golf</td>\n",
       "      <td>gti mk8</td>\n",
       "      <td>2022</td>\n",
       "      <td>9999</td>\n",
       "      <td>241</td>\n",
       "      <td>273</td>\n",
       "      <td>4</td>\n",
       "      <td>2.0</td>\n",
       "      <td>turbo</td>\n",
       "      <td>both</td>\n",
       "      <td>fwd</td>\n",
       "      <td>hatch</td>\n",
       "      <td>4</td>\n",
       "    </tr>\n",
       "    <tr>\n",
       "      <th>109</th>\n",
       "      <td>VOLKSWAGEN</td>\n",
       "      <td>golf</td>\n",
       "      <td>r mk8</td>\n",
       "      <td>2022</td>\n",
       "      <td>9999</td>\n",
       "      <td>315</td>\n",
       "      <td>310</td>\n",
       "      <td>4</td>\n",
       "      <td>2.0</td>\n",
       "      <td>turbo</td>\n",
       "      <td>both</td>\n",
       "      <td>awd</td>\n",
       "      <td>hatch</td>\n",
       "      <td>4</td>\n",
       "    </tr>\n",
       "  </tbody>\n",
       "</table>\n",
       "<p>110 rows × 14 columns</p>\n",
       "</div>"
      ],
      "text/plain": [
       "           make     name  edition  min_year  max_year   hp  torque  cylinder  \\\n",
       "0         ACURA  integra     base      1994      2000  140     124         4   \n",
       "1         ACURA  integra      gsr      1994      2000  170     128         4   \n",
       "2         ACURA  integra   type r      1999      2000  195     130         4   \n",
       "3         ACURA      rsx     base      2002      2006  160     141         4   \n",
       "4         ACURA      rsx   type s      2002      2004  200     141         4   \n",
       "..          ...      ...      ...       ...       ...  ...     ...       ...   \n",
       "105  VOLKSWAGEN     golf    r mk6      2009      2011  256     243         4   \n",
       "106  VOLKSWAGEN     golf  gti mk7      2015      2021  227     258         4   \n",
       "107  VOLKSWAGEN     golf    r mk7      2015      2021  296     280         4   \n",
       "108  VOLKSWAGEN     golf  gti mk8      2022      9999  241     273         4   \n",
       "109  VOLKSWAGEN     golf    r mk8      2022      9999  315     310         4   \n",
       "\n",
       "     displacement aspiration transmission drive   body  door  \n",
       "0             1.8         na         both   fwd  coupe     2  \n",
       "1             1.8         na          man   fwd  coupe     2  \n",
       "2             1.8         na          man   fwd  coupe     2  \n",
       "3             2.0         na         both   fwd  coupe     2  \n",
       "4             2.0         na          man   fwd  coupe     2  \n",
       "..            ...        ...          ...   ...    ...   ...  \n",
       "105           2.0      turbo          man   4wd  hatch     2  \n",
       "106           2.0      turbo         both   fwd  hatch     2  \n",
       "107           2.0      turbo         both   4wd  hatch     4  \n",
       "108           2.0      turbo         both   fwd  hatch     4  \n",
       "109           2.0      turbo         both   awd  hatch     4  \n",
       "\n",
       "[110 rows x 14 columns]"
      ]
     },
     "execution_count": 14,
     "metadata": {},
     "output_type": "execute_result"
    }
   ],
   "source": [
    "sql = \"\"\"SELECT make, name, edition, min_year, max_year, hp, torque, \n",
    "    cylinder, displacement, aspiration,transmission, drive, body, door \n",
    "    FROM car_models AS M \n",
    "    JOIN car_name AS N ON M.name_id = N.id \n",
    "    JOIN car_make AS MA ON N.make_id = MA.id;\"\"\"\n",
    "df_return = pd.read_sql_query(sql, conn)\n",
    "df_return"
   ]
  },
  {
   "cell_type": "markdown",
   "id": "8f19e650",
   "metadata": {},
   "source": [
    "### End Session"
   ]
  },
  {
   "cell_type": "code",
   "execution_count": null,
   "id": "56d8b787",
   "metadata": {},
   "outputs": [],
   "source": [
    "cur.close()\n",
    "conn.close()"
   ]
  },
  {
   "cell_type": "markdown",
   "id": "96d8c1ef",
   "metadata": {},
   "source": [
    "### Run Cells below to delete all tables"
   ]
  },
  {
   "cell_type": "code",
   "execution_count": null,
   "id": "f0ec95fb",
   "metadata": {},
   "outputs": [],
   "source": [
    "# sql = \"\"\"SELECT table_name FROM information_schema.tables WHERE table_schema = 'public'\"\"\"\n",
    "# cur.execute(sql)\n",
    "\n",
    "# for table in cur.fetchall():\n",
    "#     try:\n",
    "#         sql = f\"DROP TABLE IF EXISTS {table[0]};\"\n",
    "#         cur.execute(sql)\n",
    "#         print(sql)\n",
    "#     except:\n",
    "#         print('error dropping tables')"
   ]
  },
  {
   "cell_type": "code",
   "execution_count": null,
   "id": "599c30e3",
   "metadata": {},
   "outputs": [],
   "source": [
    "# conn.commit()"
   ]
  },
  {
   "cell_type": "code",
   "execution_count": null,
   "id": "b37aab1f",
   "metadata": {},
   "outputs": [],
   "source": []
  }
 ],
 "metadata": {
  "kernelspec": {
   "display_name": "Python 3 (ipykernel)",
   "language": "python",
   "name": "python3"
  },
  "language_info": {
   "codemirror_mode": {
    "name": "ipython",
    "version": 3
   },
   "file_extension": ".py",
   "mimetype": "text/x-python",
   "name": "python",
   "nbconvert_exporter": "python",
   "pygments_lexer": "ipython3",
   "version": "3.10.4"
  }
 },
 "nbformat": 4,
 "nbformat_minor": 5
}
