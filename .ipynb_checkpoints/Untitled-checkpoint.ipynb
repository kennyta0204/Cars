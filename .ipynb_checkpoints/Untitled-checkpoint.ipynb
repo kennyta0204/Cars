{
 "cells": [
  {
   "cell_type": "code",
   "execution_count": 4,
   "id": "001c48dc",
   "metadata": {},
   "outputs": [],
   "source": [
    "make= ['mazda', 'BMW']"
   ]
  },
  {
   "cell_type": "code",
   "execution_count": 5,
   "id": "4ac4c865",
   "metadata": {},
   "outputs": [
    {
     "data": {
      "text/plain": [
       "\"('mazda', 'BMW')\""
      ]
     },
     "execution_count": 5,
     "metadata": {},
     "output_type": "execute_result"
    }
   ],
   "source": [
    "str(tuple(test))"
   ]
  },
  {
   "cell_type": "code",
   "execution_count": 6,
   "id": "21cbac4b",
   "metadata": {},
   "outputs": [],
   "source": [
    "sql = f\"SELECT make, name, edition, hp, torque, cylinder, displacement, aspiration, drive, transmission, min_year, max_year, body FROM car_models AS M \\\n",
    "    JOIN car_name AS N ON M.name_id = N.id \\\n",
    "    JOIN car_make AS MA ON MA.id = N.make_id \\\n",
    "    WHERE make IN %s;\".format(str(tuple(make)))"
   ]
  },
  {
   "cell_type": "code",
   "execution_count": 7,
   "id": "bf17e24c",
   "metadata": {},
   "outputs": [
    {
     "name": "stdout",
     "output_type": "stream",
     "text": [
      "('SELECT make, name, edition, hp, torque, cylinder, displacement, aspiration, drive, transmission, min_year, max_year, body FROM car_models AS M     JOIN car_name AS N ON M.name_id = N.id     JOIN car_make AS MA ON MA.id = N.make_id     WHERE make IN %s;', \"('mazda', 'BMW')\")\n"
     ]
    }
   ],
   "source": [
    "print(sql)"
   ]
  },
  {
   "cell_type": "code",
   "execution_count": null,
   "id": "26a9ee95",
   "metadata": {},
   "outputs": [],
   "source": []
  }
 ],
 "metadata": {
  "kernelspec": {
   "display_name": "Python 3 (ipykernel)",
   "language": "python",
   "name": "python3"
  },
  "language_info": {
   "codemirror_mode": {
    "name": "ipython",
    "version": 3
   },
   "file_extension": ".py",
   "mimetype": "text/x-python",
   "name": "python",
   "nbconvert_exporter": "python",
   "pygments_lexer": "ipython3",
   "version": "3.10.4"
  }
 },
 "nbformat": 4,
 "nbformat_minor": 5
}
