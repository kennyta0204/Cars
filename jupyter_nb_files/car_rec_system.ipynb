{
 "cells": [
  {
   "cell_type": "code",
   "execution_count": null,
   "id": "9ca220ff",
   "metadata": {},
   "outputs": [],
   "source": [
    "import pandas as pd\n",
    "import numpy as np\n",
    "import psycopg2\n",
    "import sqlalchemy\n",
    "from sqlalchemy.sql import text\n",
    "import psql_auth"
   ]
  },
  {
   "cell_type": "code",
   "execution_count": null,
   "id": "8428feec",
   "metadata": {},
   "outputs": [],
   "source": [
    "from sklearn.neighbors import NearestNeighbors\n",
    "from sklearn.preprocessing import StandardScaler, MinMaxScaler"
   ]
  },
  {
   "cell_type": "code",
   "execution_count": null,
   "id": "87d8a605",
   "metadata": {},
   "outputs": [],
   "source": [
    "sql_auth = psql_auth.secrets()\n",
    "alchemy_auth = psql_auth.alchemy(sql_auth)\n",
    "\n",
    "conn = psycopg2.connect(\n",
    "    host = sql_auth['host'],\n",
    "    database = sql_auth['database'],\n",
    "    port = sql_auth['port'],\n",
    "    user = sql_auth['user'],\n",
    "    password= sql_auth['pass'])"
   ]
  },
  {
   "cell_type": "code",
   "execution_count": null,
   "id": "14ae9f25",
   "metadata": {},
   "outputs": [],
   "source": [
    "url = alchemy_auth\n",
    "engine = sqlalchemy.create_engine(url)"
   ]
  },
  {
   "cell_type": "code",
   "execution_count": null,
   "id": "6ef2ddb0",
   "metadata": {},
   "outputs": [],
   "source": [
    "sql = '''SELECT make, name, edition, min_year, max_year, hp, torque, body, door, cylinder, displacement, aspiration, transmission, drive\n",
    "    FROM car_models AS M JOIN car_name AS N ON M.name_id = N.id JOIN car_make as MA ON N.make_id= MA.id;'''\n",
    "with engine.connect() as connn:\n",
    "    query = connn.execute(text(sql))\n",
    "df = pd.DataFrame(query.fetchall())"
   ]
  },
  {
   "cell_type": "code",
   "execution_count": null,
   "id": "b000fb78",
   "metadata": {},
   "outputs": [],
   "source": [
    "# Replace year 9999 with current\n",
    "df['max_year'] = [y if y <9999 else 2023 for y in df['max_year']]\n",
    "df['turbo'] = [1 if a == 'turbo' else 0 for a in df.aspiration]\n",
    "df['super'] = [1 if a == 'supercharged' else 0 for a in df.aspiration]\n",
    "df['two_door'] = [1 if door == 2 else 0 for door in df.door]\n",
    "df['man'] = [1 if t == 'man' or t=='both' else 0 for t in df.transmission]\n",
    "df['auto'] = [1 if t == 'auto' or t=='both' else 0 for t in df.transmission]\n",
    "df['fwd'] = [1 if d == 'fwd' else 0 for d in df.drive]\n",
    "df['rwd'] = [1 if d == 'rwd' else 0 for d in df.drive]\n",
    "df['awd'] = [1 if d == 'awd' or d == '4wd' else 0 for d in df.drive]"
   ]
  },
  {
   "cell_type": "code",
   "execution_count": null,
   "id": "9063257e",
   "metadata": {},
   "outputs": [],
   "source": [
    "X = df[['hp','torque','turbo', 'super', 'two_door','man','auto','fwd','rwd','awd']].to_numpy()\n",
    "\n",
    "# scaler= StandardScaler()\n",
    "# X = scaler.fit_transform(X)"
   ]
  },
  {
   "cell_type": "code",
   "execution_count": null,
   "id": "5ce8545c",
   "metadata": {},
   "outputs": [],
   "source": [
    "def mydist(x, y):\n",
    "    x_perf = x[:2]\n",
    "    y_perf = y[:2]\n",
    "    x_feats = x[2:]\n",
    "    y_feats = y[2:]\n",
    "    \n",
    "    perf = np.sqrt(np.sum((x_perf-y_perf)**2))\n",
    "    feats = (len(x_feats) - np.sum((x_feats-y_feats)**2)) / len(x_feats)\n",
    "    dist = perf/feats\n",
    "    \n",
    "    return dist\n",
    "    "
   ]
  },
  {
   "cell_type": "code",
   "execution_count": null,
   "id": "10611b83",
   "metadata": {},
   "outputs": [],
   "source": [
    "model_knn =NearestNeighbors(n_neighbors= 5, algorithm= 'ball_tree', metric= mydist)\n",
    "model_knn.fit(X)"
   ]
  },
  {
   "cell_type": "code",
   "execution_count": null,
   "id": "0530bfaa",
   "metadata": {},
   "outputs": [],
   "source": [
    "HP = 241\n",
    "TORQUE = 273\n",
    "TURBO = 1\n",
    "SUPER = 0\n",
    "TWO_DOOR = 0\n",
    "MAN = 1\n",
    "AUTO = 1\n",
    "FWD = 1\n",
    "RWD = 0\n",
    "AWD = 0"
   ]
  },
  {
   "cell_type": "code",
   "execution_count": null,
   "id": "32f17fa6",
   "metadata": {},
   "outputs": [],
   "source": [
    "similar_cars = model_knn.kneighbors([[HP,TORQUE,TURBO,SUPER,TWO_DOOR,MAN,AUTO,FWD,RWD,AWD]])[1][0]"
   ]
  },
  {
   "cell_type": "code",
   "execution_count": null,
   "id": "8c7fb656",
   "metadata": {},
   "outputs": [],
   "source": [
    "similar_cars"
   ]
  },
  {
   "cell_type": "code",
   "execution_count": null,
   "id": "386585a7",
   "metadata": {
    "scrolled": false
   },
   "outputs": [],
   "source": [
    "for car in similar_cars:\n",
    "    print(df.iloc[car])\n",
    "    print('')\n",
    "    print('')"
   ]
  },
  {
   "cell_type": "code",
   "execution_count": null,
   "id": "4746a50f",
   "metadata": {},
   "outputs": [],
   "source": [
    "df.iloc[2]"
   ]
  },
  {
   "cell_type": "code",
   "execution_count": null,
   "id": "ae75d69a",
   "metadata": {},
   "outputs": [],
   "source": [
    "conn.close()"
   ]
  },
  {
   "cell_type": "code",
   "execution_count": null,
   "id": "717d8e4e",
   "metadata": {},
   "outputs": [],
   "source": []
  }
 ],
 "metadata": {
  "kernelspec": {
   "display_name": "Python 3 (ipykernel)",
   "language": "python",
   "name": "python3"
  },
  "language_info": {
   "codemirror_mode": {
    "name": "ipython",
    "version": 3
   },
   "file_extension": ".py",
   "mimetype": "text/x-python",
   "name": "python",
   "nbconvert_exporter": "python",
   "pygments_lexer": "ipython3",
   "version": "3.10.4"
  }
 },
 "nbformat": 4,
 "nbformat_minor": 5
}
