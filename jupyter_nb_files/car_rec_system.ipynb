{
 "cells": [
  {
   "cell_type": "code",
   "execution_count": 1,
   "id": "9ca220ff",
   "metadata": {},
   "outputs": [],
   "source": [
    "import pandas as pd\n",
    "import numpy as np\n",
    "import psycopg2\n",
    "import sqlalchemy\n",
    "from sqlalchemy.sql import text\n",
    "import psql_auth"
   ]
  },
  {
   "cell_type": "code",
   "execution_count": 2,
   "id": "8428feec",
   "metadata": {},
   "outputs": [],
   "source": [
    "from sklearn.neighbors import NearestNeighbors\n",
    "from sklearn.preprocessing import StandardScaler, MinMaxScaler"
   ]
  },
  {
   "cell_type": "code",
   "execution_count": 3,
   "id": "87d8a605",
   "metadata": {},
   "outputs": [],
   "source": [
    "sql_auth = psql_auth.secrets()\n",
    "alchemy_auth = psql_auth.alchemy(sql_auth)\n",
    "\n",
    "conn = psycopg2.connect(\n",
    "    host = sql_auth['host'],\n",
    "    database = sql_auth['database'],\n",
    "    port = sql_auth['port'],\n",
    "    user = sql_auth['user'],\n",
    "    password= sql_auth['pass'])"
   ]
  },
  {
   "cell_type": "code",
   "execution_count": 5,
   "id": "14ae9f25",
   "metadata": {},
   "outputs": [],
   "source": [
    "url = alchemy_auth\n",
    "engine = sqlalchemy.create_engine(url)"
   ]
  },
  {
   "cell_type": "code",
   "execution_count": 6,
   "id": "6ef2ddb0",
   "metadata": {},
   "outputs": [],
   "source": [
    "sql = '''SELECT make, name, edition, min_year, max_year, hp, torque, body, door, cylinder, displacement, aspiration, transmission, drive\n",
    "    FROM car_models AS M JOIN car_name AS N ON M.name_id = N.id JOIN car_make as MA ON N.make_id= MA.id;'''\n",
    "with engine.connect() as connn:\n",
    "    query = connn.execute(text(sql))\n",
    "df = pd.DataFrame(query.fetchall())"
   ]
  },
  {
   "cell_type": "code",
   "execution_count": 7,
   "id": "b000fb78",
   "metadata": {},
   "outputs": [],
   "source": [
    "# Replace year 9999 with current\n",
    "df['max_year'] = [y if y <9999 else 2023 for y in df['max_year']]\n",
    "df['turbo'] = [1 if a == 'turbo' else 0 for a in df.aspiration]\n",
    "df['super'] = [1 if a == 'supercharged' else 0 for a in df.aspiration]\n",
    "df['two_door'] = [1 if door == 2 else 0 for door in df.door]\n",
    "df['man'] = [1 if t == 'man' or t=='both' else 0 for t in df.transmission]\n",
    "df['auto'] = [1 if t == 'auto' or t=='both' else 0 for t in df.transmission]\n",
    "df['fwd'] = [1 if d == 'fwd' else 0 for d in df.drive]\n",
    "df['rwd'] = [1 if d == 'rwd' else 0 for d in df.drive]\n",
    "df['awd'] = [1 if d == 'awd' or d == '4wd' else 0 for d in df.drive]"
   ]
  },
  {
   "cell_type": "code",
   "execution_count": 8,
   "id": "9063257e",
   "metadata": {},
   "outputs": [],
   "source": [
    "X = df[['hp','torque','turbo', 'super', 'two_door','man','auto','fwd','rwd','awd']].to_numpy()\n",
    "\n",
    "# scaler= StandardScaler()\n",
    "# X = scaler.fit_transform(X)"
   ]
  },
  {
   "cell_type": "code",
   "execution_count": 9,
   "id": "5ce8545c",
   "metadata": {},
   "outputs": [],
   "source": [
    "def mydist(x, y):\n",
    "    x_perf = x[:2]\n",
    "    y_perf = y[:2]\n",
    "    x_feats = x[2:]\n",
    "    y_feats = y[2:]\n",
    "    \n",
    "    perf = np.sqrt(np.sum((x_perf-y_perf)**2))\n",
    "    feats = (len(x_feats) - np.sum((x_feats-y_feats)**2)) / len(x_feats)\n",
    "    dist = perf/feats\n",
    "    \n",
    "    return dist\n",
    "    "
   ]
  },
  {
   "cell_type": "code",
   "execution_count": 10,
   "id": "10611b83",
   "metadata": {},
   "outputs": [
    {
     "data": {
      "text/html": [
       "<style>#sk-container-id-1 {color: black;background-color: white;}#sk-container-id-1 pre{padding: 0;}#sk-container-id-1 div.sk-toggleable {background-color: white;}#sk-container-id-1 label.sk-toggleable__label {cursor: pointer;display: block;width: 100%;margin-bottom: 0;padding: 0.3em;box-sizing: border-box;text-align: center;}#sk-container-id-1 label.sk-toggleable__label-arrow:before {content: \"▸\";float: left;margin-right: 0.25em;color: #696969;}#sk-container-id-1 label.sk-toggleable__label-arrow:hover:before {color: black;}#sk-container-id-1 div.sk-estimator:hover label.sk-toggleable__label-arrow:before {color: black;}#sk-container-id-1 div.sk-toggleable__content {max-height: 0;max-width: 0;overflow: hidden;text-align: left;background-color: #f0f8ff;}#sk-container-id-1 div.sk-toggleable__content pre {margin: 0.2em;color: black;border-radius: 0.25em;background-color: #f0f8ff;}#sk-container-id-1 input.sk-toggleable__control:checked~div.sk-toggleable__content {max-height: 200px;max-width: 100%;overflow: auto;}#sk-container-id-1 input.sk-toggleable__control:checked~label.sk-toggleable__label-arrow:before {content: \"▾\";}#sk-container-id-1 div.sk-estimator input.sk-toggleable__control:checked~label.sk-toggleable__label {background-color: #d4ebff;}#sk-container-id-1 div.sk-label input.sk-toggleable__control:checked~label.sk-toggleable__label {background-color: #d4ebff;}#sk-container-id-1 input.sk-hidden--visually {border: 0;clip: rect(1px 1px 1px 1px);clip: rect(1px, 1px, 1px, 1px);height: 1px;margin: -1px;overflow: hidden;padding: 0;position: absolute;width: 1px;}#sk-container-id-1 div.sk-estimator {font-family: monospace;background-color: #f0f8ff;border: 1px dotted black;border-radius: 0.25em;box-sizing: border-box;margin-bottom: 0.5em;}#sk-container-id-1 div.sk-estimator:hover {background-color: #d4ebff;}#sk-container-id-1 div.sk-parallel-item::after {content: \"\";width: 100%;border-bottom: 1px solid gray;flex-grow: 1;}#sk-container-id-1 div.sk-label:hover label.sk-toggleable__label {background-color: #d4ebff;}#sk-container-id-1 div.sk-serial::before {content: \"\";position: absolute;border-left: 1px solid gray;box-sizing: border-box;top: 0;bottom: 0;left: 50%;z-index: 0;}#sk-container-id-1 div.sk-serial {display: flex;flex-direction: column;align-items: center;background-color: white;padding-right: 0.2em;padding-left: 0.2em;position: relative;}#sk-container-id-1 div.sk-item {position: relative;z-index: 1;}#sk-container-id-1 div.sk-parallel {display: flex;align-items: stretch;justify-content: center;background-color: white;position: relative;}#sk-container-id-1 div.sk-item::before, #sk-container-id-1 div.sk-parallel-item::before {content: \"\";position: absolute;border-left: 1px solid gray;box-sizing: border-box;top: 0;bottom: 0;left: 50%;z-index: -1;}#sk-container-id-1 div.sk-parallel-item {display: flex;flex-direction: column;z-index: 1;position: relative;background-color: white;}#sk-container-id-1 div.sk-parallel-item:first-child::after {align-self: flex-end;width: 50%;}#sk-container-id-1 div.sk-parallel-item:last-child::after {align-self: flex-start;width: 50%;}#sk-container-id-1 div.sk-parallel-item:only-child::after {width: 0;}#sk-container-id-1 div.sk-dashed-wrapped {border: 1px dashed gray;margin: 0 0.4em 0.5em 0.4em;box-sizing: border-box;padding-bottom: 0.4em;background-color: white;}#sk-container-id-1 div.sk-label label {font-family: monospace;font-weight: bold;display: inline-block;line-height: 1.2em;}#sk-container-id-1 div.sk-label-container {text-align: center;}#sk-container-id-1 div.sk-container {/* jupyter's `normalize.less` sets `[hidden] { display: none; }` but bootstrap.min.css set `[hidden] { display: none !important; }` so we also need the `!important` here to be able to override the default hidden behavior on the sphinx rendered scikit-learn.org. See: https://github.com/scikit-learn/scikit-learn/issues/21755 */display: inline-block !important;position: relative;}#sk-container-id-1 div.sk-text-repr-fallback {display: none;}</style><div id=\"sk-container-id-1\" class=\"sk-top-container\"><div class=\"sk-text-repr-fallback\"><pre>NearestNeighbors(algorithm=&#x27;ball_tree&#x27;,\n",
       "                 metric=&lt;function mydist at 0x0000019B19B47B50&gt;)</pre><b>In a Jupyter environment, please rerun this cell to show the HTML representation or trust the notebook. <br />On GitHub, the HTML representation is unable to render, please try loading this page with nbviewer.org.</b></div><div class=\"sk-container\" hidden><div class=\"sk-item\"><div class=\"sk-estimator sk-toggleable\"><input class=\"sk-toggleable__control sk-hidden--visually\" id=\"sk-estimator-id-1\" type=\"checkbox\" checked><label for=\"sk-estimator-id-1\" class=\"sk-toggleable__label sk-toggleable__label-arrow\">NearestNeighbors</label><div class=\"sk-toggleable__content\"><pre>NearestNeighbors(algorithm=&#x27;ball_tree&#x27;,\n",
       "                 metric=&lt;function mydist at 0x0000019B19B47B50&gt;)</pre></div></div></div></div></div>"
      ],
      "text/plain": [
       "NearestNeighbors(algorithm='ball_tree',\n",
       "                 metric=<function mydist at 0x0000019B19B47B50>)"
      ]
     },
     "execution_count": 10,
     "metadata": {},
     "output_type": "execute_result"
    }
   ],
   "source": [
    "model_knn =NearestNeighbors(n_neighbors= 5, algorithm= 'ball_tree', metric= mydist)\n",
    "model_knn.fit(X)"
   ]
  },
  {
   "cell_type": "code",
   "execution_count": 11,
   "id": "0530bfaa",
   "metadata": {},
   "outputs": [],
   "source": [
    "HP = 241\n",
    "TORQUE = 273\n",
    "TURBO = 1\n",
    "SUPER = 0\n",
    "TWO_DOOR = 0\n",
    "MAN = 1\n",
    "AUTO = 1\n",
    "FWD = 1\n",
    "RWD = 0\n",
    "AWD = 0"
   ]
  },
  {
   "cell_type": "code",
   "execution_count": 12,
   "id": "32f17fa6",
   "metadata": {},
   "outputs": [],
   "source": [
    "similar_cars = model_knn.kneighbors([[HP,TORQUE,TURBO,SUPER,TWO_DOOR,MAN,AUTO,FWD,RWD,AWD]])[1][0]"
   ]
  },
  {
   "cell_type": "code",
   "execution_count": 13,
   "id": "8c7fb656",
   "metadata": {},
   "outputs": [
    {
     "data": {
      "text/plain": [
       "array([108, 106,  63,  44,  11], dtype=int64)"
      ]
     },
     "execution_count": 13,
     "metadata": {},
     "output_type": "execute_result"
    }
   ],
   "source": [
    "similar_cars"
   ]
  },
  {
   "cell_type": "code",
   "execution_count": 14,
   "id": "386585a7",
   "metadata": {
    "scrolled": false
   },
   "outputs": [
    {
     "name": "stdout",
     "output_type": "stream",
     "text": [
      "make            VOLKSWAGEN\n",
      "name                  golf\n",
      "edition            gti mk8\n",
      "min_year              2022\n",
      "max_year              2023\n",
      "hp                     241\n",
      "torque                 273\n",
      "body                 hatch\n",
      "door                     4\n",
      "cylinder                 4\n",
      "displacement           2.0\n",
      "aspiration           turbo\n",
      "transmission          both\n",
      "drive                  fwd\n",
      "turbo                    1\n",
      "super                    0\n",
      "two_door                 0\n",
      "man                      1\n",
      "auto                     1\n",
      "fwd                      1\n",
      "rwd                      0\n",
      "awd                      0\n",
      "Name: 108, dtype: object\n",
      "\n",
      "\n",
      "make            VOLKSWAGEN\n",
      "name                  golf\n",
      "edition            gti mk7\n",
      "min_year              2015\n",
      "max_year              2021\n",
      "hp                     227\n",
      "torque                 258\n",
      "body                 hatch\n",
      "door                     2\n",
      "cylinder                 4\n",
      "displacement           2.0\n",
      "aspiration           turbo\n",
      "transmission          both\n",
      "drive                  fwd\n",
      "turbo                    1\n",
      "super                    0\n",
      "two_door                 1\n",
      "man                      1\n",
      "auto                     1\n",
      "fwd                      1\n",
      "rwd                      0\n",
      "awd                      0\n",
      "Name: 106, dtype: object\n",
      "\n",
      "\n",
      "make                   MAZDA\n",
      "name                  mazda3\n",
      "edition         mazdaspeed 3\n",
      "min_year                2010\n",
      "max_year                2013\n",
      "hp                       263\n",
      "torque                   280\n",
      "body                   hatch\n",
      "door                       4\n",
      "cylinder                   4\n",
      "displacement             2.3\n",
      "aspiration             turbo\n",
      "transmission             man\n",
      "drive                    fwd\n",
      "turbo                      1\n",
      "super                      0\n",
      "two_door                   0\n",
      "man                        1\n",
      "auto                       0\n",
      "fwd                        1\n",
      "rwd                        0\n",
      "awd                        0\n",
      "Name: 63, dtype: object\n",
      "\n",
      "\n",
      "make                KIA\n",
      "name            stinger\n",
      "edition           2.0 T\n",
      "min_year           2018\n",
      "max_year           2023\n",
      "hp                  252\n",
      "torque              260\n",
      "body              sedan\n",
      "door                  4\n",
      "cylinder              4\n",
      "displacement        2.0\n",
      "aspiration        turbo\n",
      "transmission       auto\n",
      "drive               awd\n",
      "turbo                 1\n",
      "super                 0\n",
      "two_door              0\n",
      "man                   0\n",
      "auto                  1\n",
      "fwd                   0\n",
      "rwd                   0\n",
      "awd                   1\n",
      "Name: 44, dtype: object\n",
      "\n",
      "\n",
      "make            ALFA ROMEO\n",
      "name                    4c\n",
      "edition               base\n",
      "min_year              2014\n",
      "max_year              2018\n",
      "hp                     237\n",
      "torque                 258\n",
      "body                 coupe\n",
      "door                     2\n",
      "cylinder                 4\n",
      "displacement           1.7\n",
      "aspiration           turbo\n",
      "transmission          auto\n",
      "drive                  rwd\n",
      "turbo                    1\n",
      "super                    0\n",
      "two_door                 1\n",
      "man                      0\n",
      "auto                     1\n",
      "fwd                      0\n",
      "rwd                      1\n",
      "awd                      0\n",
      "Name: 11, dtype: object\n",
      "\n",
      "\n"
     ]
    }
   ],
   "source": [
    "for car in similar_cars:\n",
    "    print(df.iloc[car])\n",
    "    print('')\n",
    "    print('')"
   ]
  },
  {
   "cell_type": "code",
   "execution_count": null,
   "id": "4746a50f",
   "metadata": {},
   "outputs": [],
   "source": [
    "df.iloc[2]"
   ]
  },
  {
   "cell_type": "code",
   "execution_count": 16,
   "id": "ae75d69a",
   "metadata": {},
   "outputs": [],
   "source": [
    "conn.close()"
   ]
  },
  {
   "cell_type": "code",
   "execution_count": null,
   "id": "a77c8ed4",
   "metadata": {},
   "outputs": [],
   "source": []
  }
 ],
 "metadata": {
  "kernelspec": {
   "display_name": "Python 3 (ipykernel)",
   "language": "python",
   "name": "python3"
  },
  "language_info": {
   "codemirror_mode": {
    "name": "ipython",
    "version": 3
   },
   "file_extension": ".py",
   "mimetype": "text/x-python",
   "name": "python",
   "nbconvert_exporter": "python",
   "pygments_lexer": "ipython3",
   "version": "3.10.4"
  }
 },
 "nbformat": 4,
 "nbformat_minor": 5
}
