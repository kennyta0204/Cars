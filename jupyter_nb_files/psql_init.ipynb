{
 "cells": [
  {
   "cell_type": "code",
   "execution_count": 4,
   "id": "1ad0c26b",
   "metadata": {},
   "outputs": [],
   "source": [
    "import psycopg2\n",
    "import psql_auth\n",
    "import os"
   ]
  },
  {
   "cell_type": "code",
   "execution_count": 5,
   "id": "fd3cd108",
   "metadata": {},
   "outputs": [],
   "source": [
    "sql_auth = psql_auth.secrets()\n",
    "\n",
    "conn = psycopg2.connect(\n",
    "    host = sql_auth['host'],\n",
    "    database = sql_auth['database'],\n",
    "    port = sql_auth['port'],\n",
    "    user = sql_auth['user'],\n",
    "    password= sql_auth['pass'])\n",
    "\n",
    "cur = conn.cursor()"
   ]
  },
  {
   "cell_type": "code",
   "execution_count": 6,
   "id": "1109e828",
   "metadata": {},
   "outputs": [
    {
     "name": "stdout",
     "output_type": "stream",
     "text": [
      "successfully ran car_make.sql\n",
      "successfully ran car_models.sql\n",
      "successfully ran car_name.sql\n",
      "successfully ran update_2023-05-17.sql\n",
      "successfully ran update_2023-05-26.sql\n"
     ]
    }
   ],
   "source": [
    "root_dir = 'sql_files/'\n",
    "for subdir, dirs, files in os.walk(root_dir):\n",
    "    for file in files:\n",
    "        path = root_dir+file\n",
    "        try:\n",
    "            cur.execute(open(path, 'r').read())\n",
    "            print(f'successfully ran {file}')\n",
    "            conn.commit()\n",
    "        except:\n",
    "            print(f'Failed to run {file}')"
   ]
  },
  {
   "cell_type": "code",
   "execution_count": 7,
   "id": "efea9e47",
   "metadata": {},
   "outputs": [],
   "source": [
    "cur.close()\n",
    "conn.close()"
   ]
  },
  {
   "cell_type": "code",
   "execution_count": null,
   "id": "76a47d94",
   "metadata": {},
   "outputs": [],
   "source": []
  }
 ],
 "metadata": {
  "kernelspec": {
   "display_name": "Python 3 (ipykernel)",
   "language": "python",
   "name": "python3"
  },
  "language_info": {
   "codemirror_mode": {
    "name": "ipython",
    "version": 3
   },
   "file_extension": ".py",
   "mimetype": "text/x-python",
   "name": "python",
   "nbconvert_exporter": "python",
   "pygments_lexer": "ipython3",
   "version": "3.11.3"
  }
 },
 "nbformat": 4,
 "nbformat_minor": 5
}
